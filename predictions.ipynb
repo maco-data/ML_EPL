{
 "cells": [
  {
   "cell_type": "code",
   "execution_count": null,
   "metadata": {},
   "outputs": [],
   "source": [
    "import pandas as pd\n",
    "import numpy as np\n",
    "import matplotlib.pyplot as plt\n",
    "import seaborn\n",
    "from sklearn.ensemble import RandomForestClassifier\n",
    "from sklearn.metrics import accuracy_score, precision_score"
   ]
  },
  {
   "cell_type": "code",
   "execution_count": null,
   "metadata": {},
   "outputs": [],
   "source": [
    "# Importing files\n",
    "season_1 = pd.read_csv(\"datasets/matches_2017-2018.csv\", index_col=0)\n",
    "season_2 = pd.read_csv(\"datasets/matches_2018-2019.csv\", index_col=0)\n",
    "season_3 = pd.read_csv(\"datasets/matches_2019-2020.csv\", index_col=0)\n",
    "season_4 = pd.read_csv(\"datasets/matches_2020-2021.csv\", index_col=0)\n",
    "season_5 = pd.read_csv(\"datasets/matches_2021-2022.csv\", index_col=0)\n"
   ]
  },
  {
   "cell_type": "code",
   "execution_count": null,
   "metadata": {},
   "outputs": [],
   "source": [
    "# Making an array with all seasons\n",
    "all_seasons = [season_1, season_2, season_3, season_4, season_5]\n",
    "\n",
    "# Combining all the files into one dataframe with all 5 seasons\n",
    "matches = pd.concat(all_seasons)"
   ]
  },
  {
   "cell_type": "code",
   "execution_count": null,
   "metadata": {},
   "outputs": [],
   "source": [
    "matches.head()"
   ]
  },
  {
   "cell_type": "code",
   "execution_count": null,
   "metadata": {},
   "outputs": [],
   "source": [
    "# Removing irrelevant attributes comp= All are EPL games, notes=Unnecessary data\n",
    "\n",
    "del matches['comp']\n",
    "del matches['notes']"
   ]
  },
  {
   "cell_type": "code",
   "execution_count": null,
   "metadata": {},
   "outputs": [],
   "source": [
    "# Observing data types in the dataset\n",
    "matches.dtypes"
   ]
  },
  {
   "cell_type": "markdown",
   "metadata": {},
   "source": [
    "Some of the attributes data types need to be change:\n",
    "\n",
    "- Venue to category\n",
    "- Opponent to category\n",
    "- Time to to interger\n",
    "- Date to date and extract day of week\n",
    "- Result to interger"
   ]
  },
  {
   "cell_type": "code",
   "execution_count": null,
   "metadata": {},
   "outputs": [],
   "source": [
    "matches['date'] = pd.to_datetime(matches['date'])\n",
    "matches[\"day_code\"] = matches[\"date\"].dt.dayofweek\n",
    "matches['hour'] = matches['time'].str.replace(':.+', '', regex=True).astype('int')\n",
    "matches['venue_code'] = matches['venue'].astype(\"category\").cat.codes\n",
    "matches['opp_code'] = matches['opponent'].astype('category').cat.codes\n",
    "matches['target'] = (matches['result'] == 'W').astype('int')\n",
    "\n",
    "matches.head()"
   ]
  },
  {
   "cell_type": "code",
   "execution_count": null,
   "metadata": {},
   "outputs": [],
   "source": [
    "matches['team'].value_counts()"
   ]
  },
  {
   "cell_type": "markdown",
   "metadata": {},
   "source": [
    "Some Teams have not played all of the 5 seasons, each season contains a total of 38 games. In no particular order, here is how many seasons each team have played:\n",
    "\n",
    "Played 1 Seasons\n",
    "- Stoke City                  38\n",
    "- Cardiff City                38\n",
    "- Swansea City                38\n",
    "- Brentford                  37\n",
    "\n",
    "Played 2 Seasons\n",
    "- Huddersfield Town           76\n",
    "- West Bromwich Albion         76\n",
    "- Fulham                     76\n",
    "- Sheffield United            76\n",
    "- Leeds United                75\n",
    "- Norwich City                75\n",
    "\n",
    "Played 3 Seasons\n",
    "- Bournemouth               114\n",
    "- Aston Villa                113\n",
    "\n",
    "Played 4 Seasons\n",
    "- Watford                   151\n",
    "- Wolverhampton Wanderers    151\n",
    "\n",
    "Played 5 Seasons\n",
    "\n",
    "- Manchester City            189\n",
    "- Leicester City             189\n",
    "- Southampton               189\n",
    "- Manchester United          189\n",
    "- WestHam United             189\n",
    "- Crystal Palace             189\n",
    "- Newcastle United           189\n",
    "- Brighton and Hove Albion     189\n",
    "- Everton                   189\n",
    "- Arsenal                   189\n",
    "- Chelsea                   189\n",
    "- Liverpool                 189\n",
    "- Tottenham Hotspur          189\n",
    "- Burnley                   189\n",
    "\n"
   ]
  },
  {
   "cell_type": "markdown",
   "metadata": {},
   "source": [
    "## Preperaring Data for Predictions"
   ]
  }
 ],
 "metadata": {
  "interpreter": {
   "hash": "14940aef5d02b198bcce26232421777839ca09a76895cf10da5f4cc405b30f3b"
  },
  "kernelspec": {
   "display_name": "Python 3.10.0 ('minimal_ds')",
   "language": "python",
   "name": "python3"
  },
  "language_info": {
   "codemirror_mode": {
    "name": "ipython",
    "version": 3
   },
   "file_extension": ".py",
   "mimetype": "text/x-python",
   "name": "python",
   "nbconvert_exporter": "python",
   "pygments_lexer": "ipython3",
   "version": "3.10.0"
  },
  "orig_nbformat": 4
 },
 "nbformat": 4,
 "nbformat_minor": 2
}
