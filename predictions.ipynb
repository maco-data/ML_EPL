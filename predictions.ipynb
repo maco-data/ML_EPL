{
 "cells": [
  {
   "cell_type": "code",
   "execution_count": 3,
   "metadata": {},
   "outputs": [],
   "source": [
    "import pandas as pd\n",
    "import numpy as np\n",
    "import matplotlib.pyplot as plt\n",
    "import seaborn\n",
    "from sklearn.ensemble import RandomForestClassifier\n",
    "from sklearn.metrics import accuracy_score, precision_score"
   ]
  },
  {
   "cell_type": "code",
   "execution_count": 5,
   "metadata": {},
   "outputs": [],
   "source": [
    "# Importing files\n",
    "season_1 = pd.read_csv(\"datasets/matches_2017-2018.csv\")\n",
    "season_2 = pd.read_csv(\"datasets/matches_2018-2019.csv\")\n",
    "season_3 = pd.read_csv(\"datasets/matches_2019-2020.csv\")\n",
    "season_4 = pd.read_csv(\"datasets/matches_2020-2021.csv\")\n",
    "season_5 = pd.read_csv(\"datasets/matches_2021-2022.csv\")\n"
   ]
  },
  {
   "cell_type": "code",
   "execution_count": 6,
   "metadata": {},
   "outputs": [],
   "source": [
    "# Making an array with all seasons\n",
    "all_seasons = [season_1, season_2, season_3, season_4, season_5]\n",
    "\n",
    "# Combining all the files into one dataframe with all 5 seasons\n",
    "matches = pd.concat(all_seasons)"
   ]
  },
  {
   "cell_type": "code",
   "execution_count": 7,
   "metadata": {},
   "outputs": [
    {
     "data": {
      "text/plain": [
       "(3780, 28)"
      ]
     },
     "execution_count": 7,
     "metadata": {},
     "output_type": "execute_result"
    }
   ],
   "source": [
    "matches.shape"
   ]
  },
  {
   "cell_type": "code",
   "execution_count": 8,
   "metadata": {},
   "outputs": [
    {
     "data": {
      "text/plain": [
       "ManchesterCity            189\n",
       "LeicesterCity             189\n",
       "Southampton               189\n",
       "ManchesterUnited          189\n",
       "WestHamUnited             189\n",
       "CrystalPalace             189\n",
       "NewcastleUnited           189\n",
       "BrightonandHoveAlbion     189\n",
       "Everton                   189\n",
       "Arsenal                   189\n",
       "Chelsea                   189\n",
       "Liverpool                 189\n",
       "TottenhamHotspur          189\n",
       "Burnley                   189\n",
       "Watford                   151\n",
       "WolverhamptonWanderers    151\n",
       "Bournemouth               114\n",
       "AstonVilla                113\n",
       "HuddersfieldTown           76\n",
       "WestBromwichAlbion         76\n",
       "Fulham                     76\n",
       "SheffieldUnited            76\n",
       "LeedsUnited                75\n",
       "NorwichCity                75\n",
       "StokeCity                  38\n",
       "CardiffCity                38\n",
       "SwanseaCity                38\n",
       "Brentford                  37\n",
       "Name: team, dtype: int64"
      ]
     },
     "execution_count": 8,
     "metadata": {},
     "output_type": "execute_result"
    }
   ],
   "source": [
    "matches['team'].value_counts()"
   ]
  },
  {
   "cell_type": "markdown",
   "metadata": {},
   "source": [
    "Some Teams have not played all of the 5 seasons, each season contains a total of 38 games. In no particular order, here is how many seasons each team have played:\n",
    "\n",
    "- Played 1 Seasons\n",
    "    - StokeCity                  38\n",
    "    - CardiffCity                38\n",
    "    - SwanseaCity                38\n",
    "    - Brentford                  37\n",
    "\n",
    "- Played 2 Seasons\n",
    "    - HuddersfieldTown           76\n",
    "    - WestBromwichAlbion         76\n",
    "    - Fulham                     76\n",
    "    - SheffieldUnited            76\n",
    "    - LeedsUnited                75\n",
    "    - NorwichCity                75\n",
    "\n",
    "- Played 3 Seasons\n",
    "    - Bournemouth               114\n",
    "    - AstonVilla                113\n",
    "\n",
    "- Played 4 Seasons\n",
    "    - Watford                   151\n",
    "    - WolverhamptonWanderers    151\n",
    "\n",
    "- Played 5 Seasons\n",
    "\n",
    "    - ManchesterCity            189\n",
    "    - LeicesterCity             189\n",
    "    - Southampton               189\n",
    "    - ManchesterUnited          189\n",
    "    - WestHamUnited             189\n",
    "    - CrystalPalace             189\n",
    "    - NewcastleUnited           189\n",
    "    - BrightonandHoveAlbion     189\n",
    "    - Everton                   189\n",
    "    - Arsenal                   189\n",
    "    - Chelsea                   189\n",
    "    - Liverpool                 189\n",
    "    - TottenhamHotspur          189\n",
    "    - Burnley                   189\n",
    "\n"
   ]
  }
 ],
 "metadata": {
  "interpreter": {
   "hash": "14940aef5d02b198bcce26232421777839ca09a76895cf10da5f4cc405b30f3b"
  },
  "kernelspec": {
   "display_name": "Python 3.10.0 ('minimal_ds')",
   "language": "python",
   "name": "python3"
  },
  "language_info": {
   "codemirror_mode": {
    "name": "ipython",
    "version": 3
   },
   "file_extension": ".py",
   "mimetype": "text/x-python",
   "name": "python",
   "nbconvert_exporter": "python",
   "pygments_lexer": "ipython3",
   "version": "3.10.0"
  },
  "orig_nbformat": 4
 },
 "nbformat": 4,
 "nbformat_minor": 2
}
