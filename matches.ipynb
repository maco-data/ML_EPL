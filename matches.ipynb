{
 "cells": [
  {
   "cell_type": "code",
   "execution_count": null,
   "metadata": {},
   "outputs": [],
   "source": [
    "# Import necessary packages\n",
    "import requests\n",
    "from bs4 import BeautifulSoup\n",
    "import pandas as pd\n",
    "import time"
   ]
  },
  {
   "cell_type": "markdown",
   "metadata": {},
   "source": [
    "# Testing scraping Data from `FBREF.COM`"
   ]
  },
  {
   "cell_type": "markdown",
   "metadata": {},
   "source": [
    "### Getting a `Team Stats`"
   ]
  },
  {
   "cell_type": "code",
   "execution_count": null,
   "metadata": {},
   "outputs": [],
   "source": [
    "# Sets URL to EPL standings\n",
    "standings_url = \"http://fbref.com/en/comps/9/Premier-League-Stats\""
   ]
  },
  {
   "cell_type": "code",
   "execution_count": null,
   "metadata": {},
   "outputs": [],
   "source": [
    "# Using get method to get the HTML data\n",
    "data = requests.get(standings_url)"
   ]
  },
  {
   "cell_type": "code",
   "execution_count": null,
   "metadata": {},
   "outputs": [],
   "source": [
    "# Parsing HTML data\n",
    "soup = BeautifulSoup(data.text)"
   ]
  },
  {
   "cell_type": "code",
   "execution_count": null,
   "metadata": {},
   "outputs": [],
   "source": [
    "# Selecting Stats table\n",
    "standings_table = soup.select('table.stats_table')[0]"
   ]
  },
  {
   "cell_type": "code",
   "execution_count": null,
   "metadata": {},
   "outputs": [],
   "source": [
    "# Finding all anchor tags in standing table\n",
    "links = standings_table.find_all('a')"
   ]
  },
  {
   "cell_type": "code",
   "execution_count": null,
   "metadata": {},
   "outputs": [],
   "source": [
    "# List comprehension to get all links to teams from the table\n",
    "links = [l.get('href') for l in links]\n",
    "links = [l for l in links if '/squads/' in l]"
   ]
  },
  {
   "cell_type": "code",
   "execution_count": null,
   "metadata": {},
   "outputs": [],
   "source": [
    "# Turning links into full URL \"absolute links\"\n",
    "team_urls = [f\"https://fbref.com{l}\" for l in links]"
   ]
  },
  {
   "cell_type": "code",
   "execution_count": null,
   "metadata": {},
   "outputs": [],
   "source": [
    "# Testing extracting data from URL, trying the first item on the table \"Manchester City\"\n",
    "team_url = team_urls[0]\n",
    "data = requests.get(team_url) # putting the team_url data in a variable"
   ]
  },
  {
   "cell_type": "code",
   "execution_count": null,
   "metadata": {},
   "outputs": [],
   "source": [
    "# Creating dataframe from HTML data using pandas \"read_html\"\n",
    "matches = pd.read_html(data.text, match=\"Scores & Fixtures\")"
   ]
  },
  {
   "cell_type": "code",
   "execution_count": null,
   "metadata": {},
   "outputs": [],
   "source": [
    "# Displaying the data we scraped\n",
    "matches[0].head()"
   ]
  },
  {
   "cell_type": "markdown",
   "metadata": {},
   "source": [
    "### Getting match `Shooting Stats`"
   ]
  },
  {
   "cell_type": "code",
   "execution_count": null,
   "metadata": {},
   "outputs": [],
   "source": [
    "#Same as before we repeat the same steps but for the \"Shooting\" stats page\n",
    "soup = BeautifulSoup(data.text)\n",
    "links = soup.find_all('a')\n",
    "links = [l.get('href') for l in links]\n",
    "links = [l for l in links if l and 'all_comps/shooting' in l] # getting link with tag 'all_comps/shooting'\n",
    "\n",
    "# Important: link was reapeated 4 times but is the same link\n",
    "\n",
    "data = requests.get(f\"https://fbref.com{links[0]}\")\n",
    "shooting = pd.read_html(data.text, match=\"Shooting\")[0]\n",
    "shooting.head()"
   ]
  },
  {
   "cell_type": "markdown",
   "metadata": {},
   "source": [
    "### Cleaning and Merging scrapped data"
   ]
  },
  {
   "cell_type": "code",
   "execution_count": null,
   "metadata": {},
   "outputs": [],
   "source": [
    "# Cleaning multilple level indexes in shooting table\n",
    "shooting.columns = shooting.columns.droplevel()"
   ]
  },
  {
   "cell_type": "code",
   "execution_count": null,
   "metadata": {},
   "outputs": [],
   "source": [
    "# Result of droping the index\n",
    "shooting.head() "
   ]
  },
  {
   "cell_type": "code",
   "execution_count": null,
   "metadata": {},
   "outputs": [],
   "source": [
    "# merging matches and shooting dataframe\n",
    "team_data = matches[0].merge(shooting[[\"Date\", \"Sh\", \"Dist\", \"FK\", \"PK\", \"PKatt\"]], on=\"Date\")"
   ]
  },
  {
   "cell_type": "code",
   "execution_count": null,
   "metadata": {},
   "outputs": [],
   "source": [
    "# This is how the data frame would look like for this team\n",
    "team_data.head()"
   ]
  },
  {
   "cell_type": "code",
   "execution_count": null,
   "metadata": {},
   "outputs": [],
   "source": [
    "# Columns an Rows of the dataframe, note that some rows from matches are not presented in shooting\n",
    "matches[0].shape, shooting.shape"
   ]
  },
  {
   "cell_type": "markdown",
   "metadata": {},
   "source": [
    "# Scraping data for multiple season and teams for predictions"
   ]
  },
  {
   "cell_type": "code",
   "execution_count": null,
   "metadata": {},
   "outputs": [],
   "source": [
    "# Setting seasons (years) and the url (same as the testing data)\n",
    "years = list(range(2022,2017, -1)) # setting seasons (only 2) starting from 2022 to 2022\n",
    "all_matches = [] # here is where all the teams data will be append as an array\n",
    "standing_url = \"http://fbref.com/en/comps/9/Premier-League-Stats\""
   ]
  },
  {
   "cell_type": "code",
   "execution_count": null,
   "metadata": {},
   "outputs": [],
   "source": [
    "# This loop follows the same steps as our testing\n",
    "for year in years:\n",
    "    data = requests.get(standing_url) # get URL data\n",
    "    soup = BeautifulSoup(data.text) # parse it with BS\n",
    "    standings_table = soup.select('table.stats_table')[0] # Select stats table\n",
    "\n",
    "    links = [l.get('href') for l in standings_table.find_all('a')] #finding teams links\n",
    "    links = [l for l in links if '/squads/' in l]\n",
    "    team_urls = [f'https://fbref.com{l}' for l in links] # concatanating links to creat absolute links\n",
    "\n",
    "    previous_season = soup.select('a.prev')[0].get('href') # going back to previous season by selecting \"previous\"\n",
    "    standings_url = f'https://fbref.com{previous_season}'\n",
    "\n",
    "    for team_url in team_urls: # getting standing and shooting stats for all teams\n",
    "        team_name = team_url.split('/')[-1].replace('-Stats', '').replace('-', '') # cleaning teams names\n",
    "        data = requests.get(team_url) \n",
    "        matches = pd.read_html(data.text, match=\"Scores & Fixtures\")[0]\n",
    "        soup = BeautifulSoup(data.text)\n",
    "        links = [l.get('href') for l in soup.find_all('a')]\n",
    "        links = [l for l in links if l and 'all_comps/shooting/' in l]\n",
    "        data = requests.get(f'http://fbref.com{links[0]}')\n",
    "        shooting = pd.read_html(data.text, match=\"Shooting\")[0]\n",
    "        shooting.columns = shooting.columns.droplevel()\n",
    "\n",
    "        # Avoids the \"ValueError\" for data not found\n",
    "        try:\n",
    "            team_data = matches.merge(shooting[['Date', 'Sh', 'SoT', 'Dist', 'FK', 'PK', 'PKatt']], on='Date')\n",
    "        except ValueError:\n",
    "            continue\n",
    "\n",
    "        team_data = team_data[team_data['Comp'] == \"Premier League\"] # selects data only from EPL\n",
    "        team_data['Season'] = year # sets the season to the according year\n",
    "        team_data['Team'] = team_name # sets team name with clean version (no spaces no dashes)\n",
    "        all_matches.append(team_data) # adds the array to the empty list\n",
    "        time.sleep(4) #FBref minimun time request is 1 every 3 seconds"
   ]
  },
  {
   "cell_type": "code",
   "execution_count": null,
   "metadata": {},
   "outputs": [],
   "source": [
    "# Creating the \"match dataframe\"\n",
    "match_df = pd.concat(all_matches)\n",
    "\n",
    "# Setting all columns names to lowercase for easy writing later on\n",
    "match_df.columns = [c.lower() for c in match_df.columns]\n",
    "\n",
    "# Display final dataframe to be use for predictions\n",
    "match_df.head()"
   ]
  },
  {
   "cell_type": "code",
   "execution_count": null,
   "metadata": {},
   "outputs": [],
   "source": [
    "# Saving dataframe to csv file\n",
    "match_df.to_csv(\"matches.csv\")"
   ]
  }
 ],
 "metadata": {
  "interpreter": {
   "hash": "14940aef5d02b198bcce26232421777839ca09a76895cf10da5f4cc405b30f3b"
  },
  "kernelspec": {
   "display_name": "Python 3.10.0 ('minimal_ds')",
   "language": "python",
   "name": "python3"
  },
  "language_info": {
   "codemirror_mode": {
    "name": "ipython",
    "version": 3
   },
   "file_extension": ".py",
   "mimetype": "text/x-python",
   "name": "python",
   "nbconvert_exporter": "python",
   "pygments_lexer": "ipython3",
   "version": "3.10.0"
  },
  "orig_nbformat": 4
 },
 "nbformat": 4,
 "nbformat_minor": 2
}
